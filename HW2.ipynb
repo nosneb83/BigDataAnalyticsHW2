
{
 "cells": [
  {
   "cell_type": "code",
   "execution_count": 1,
   "metadata": {
    "collapsed": false
   },
   "outputs": [
    {
     "name": "stderr",
     "output_type": "stream",
     "text": [
      "D:\\Users\\BensonLee\\Anaconda3\\lib\\site-packages\\sklearn\\cross_validation.py:44: DeprecationWarning: This module was deprecated in version 0.18 in favor of the model_selection module into which all the refactored classes and functions are moved. Also note that the interface of the new CV iterators are different from that of this module. This module will be removed in 0.20.\n",
      "  \"This module will be removed in 0.20.\", DeprecationWarning)\n",
      "D:\\Users\\BensonLee\\Anaconda3\\lib\\site-packages\\sklearn\\grid_search.py:43: DeprecationWarning: This module was deprecated in version 0.18 in favor of the model_selection module into which all the refactored classes and functions are moved. This module will be removed in 0.20.\n",
      "  DeprecationWarning)\n"
     ]
    }
   ],
   "source": [
    "#Import libraries:\n",
    "import pandas as pd\n",
    "import numpy as np\n",
    "import xgboost as xgb\n",
    "from xgboost.sklearn import XGBClassifier\n",
    "from sklearn import cross_validation, metrics   #Additional scklearn functions\n",
    "from sklearn.grid_search import GridSearchCV   #Perforing grid search\n",
    "\n",
    "import matplotlib.pylab as plt\n",
    "%matplotlib inline\n",
    "from matplotlib.pylab import rcParams\n",
    "rcParams['figure.figsize'] = 12, 4\n",
    "\n",
    "train = pd.read_csv('LargeTrain.csv')\n",
    "target = 'Class'\n",
    "IDcol = 'ID'"
   ]
  },
  {
   "cell_type": "code",
   "execution_count": 2,
   "metadata": {
    "collapsed": true
   },
   "outputs": [],
   "source": [
    "#Choose all predictors except target & IDcols\n",
    "predictors = ['section_names_header', 'ent_q_diffs_var', 'ent_p_8', 'ent_q_diff_diffs_2_min', 'Img4']\n",
    "xgb1 = XGBClassifier(\n",
    " learning_rate =0.1,\n",
    " n_estimators=1000,\n",
    " max_depth=5,\n",
    " min_child_weight=1,\n",
    " gamma=0,\n",
    " subsample=0.8,\n",
    " colsample_bytree=0.8,\n",
    " objective= 'binary:logistic',\n",
    " nthread=4,\n",
    " scale_pos_weight=1,\n",
    " seed=27)"
   ]
  },
  {
   "cell_type": "code",
   "execution_count": 3,
   "metadata": {
    "collapsed": false
   },
   "outputs": [
    {
     "data": {
      "text/plain": [
       "([mean: 0.97985, std: 0.00150, params: {'max_depth': 3, 'min_child_weight': 1},\n",
       "  mean: 0.97967, std: 0.00168, params: {'max_depth': 3, 'min_child_weight': 3},\n",
       "  mean: 0.97930, std: 0.00080, params: {'max_depth': 3, 'min_child_weight': 5},\n",
       "  mean: 0.98325, std: 0.00200, params: {'max_depth': 5, 'min_child_weight': 1},\n",
       "  mean: 0.98196, std: 0.00119, params: {'max_depth': 5, 'min_child_weight': 3},\n",
       "  mean: 0.98141, std: 0.00123, params: {'max_depth': 5, 'min_child_weight': 5},\n",
       "  mean: 0.98390, std: 0.00146, params: {'max_depth': 7, 'min_child_weight': 1},\n",
       "  mean: 0.98298, std: 0.00120, params: {'max_depth': 7, 'min_child_weight': 3},\n",
       "  mean: 0.98150, std: 0.00153, params: {'max_depth': 7, 'min_child_weight': 5},\n",
       "  mean: 0.98381, std: 0.00152, params: {'max_depth': 9, 'min_child_weight': 1},\n",
       "  mean: 0.98298, std: 0.00186, params: {'max_depth': 9, 'min_child_weight': 3},\n",
       "  mean: 0.98187, std: 0.00180, params: {'max_depth': 9, 'min_child_weight': 5}],\n",
       " {'max_depth': 7, 'min_child_weight': 1},\n",
       " 0.9838975629025283)"
      ]
     },
     "execution_count": 3,
     "metadata": {},
     "output_type": "execute_result"
    }
   ],
   "source": [
    "param_test1 = {\n",
    " 'max_depth':list(range(3,10,2)),\n",
    " 'min_child_weight':list(range(1,6,2))\n",
    "}\n",
    "gsearch1 = GridSearchCV(estimator = XGBClassifier( learning_rate =0.1, n_estimators=140, max_depth=5,\n",
    " min_child_weight=1, gamma=0, subsample=0.8, colsample_bytree=0.8,\n",
    " objective= 'binary:logistic', nthread=4, scale_pos_weight=1, seed=27), \n",
    " param_grid = param_test1,n_jobs=4,iid=False, cv=5)\n",
    "gsearch1.fit(train[predictors],train[target])\n",
    "gsearch1.grid_scores_, gsearch1.best_params_, gsearch1.best_score_"
   ]
  },
  {
   "cell_type": "code",
   "execution_count": 4,
   "metadata": {
    "collapsed": false
   },
   "outputs": [
    {
     "data": {
      "text/plain": [
       "([mean: 0.98417, std: 0.00155, params: {'max_depth': 6, 'min_child_weight': 1},\n",
       "  mean: 0.98362, std: 0.00129, params: {'max_depth': 6, 'min_child_weight': 2},\n",
       "  mean: 0.98390, std: 0.00146, params: {'max_depth': 7, 'min_child_weight': 1},\n",
       "  mean: 0.98353, std: 0.00168, params: {'max_depth': 7, 'min_child_weight': 2},\n",
       "  mean: 0.98381, std: 0.00132, params: {'max_depth': 8, 'min_child_weight': 1},\n",
       "  mean: 0.98353, std: 0.00134, params: {'max_depth': 8, 'min_child_weight': 2}],\n",
       " {'max_depth': 6, 'min_child_weight': 1},\n",
       " 0.9841740605983809)"
      ]
     },
     "execution_count": 4,
     "metadata": {},
     "output_type": "execute_result"
    }
   ],
   "source": [
    "param_test2 = {\n",
    " 'max_depth':[6,7,8],\n",
    " 'min_child_weight':[1,2]\n",
    "}\n",
    "gsearch2 = GridSearchCV(estimator = XGBClassifier( learning_rate=0.1, n_estimators=140, max_depth=5,\n",
    " min_child_weight=2, gamma=0, subsample=0.8, colsample_bytree=0.8,\n",
    " objective= 'binary:logistic', nthread=4, scale_pos_weight=1,seed=27), \n",
    " param_grid = param_test2,n_jobs=4,iid=False, cv=5)\n",
    "gsearch2.fit(train[predictors],train[target])\n",
    "gsearch2.grid_scores_, gsearch2.best_params_, gsearch2.best_score_"
   ]
  },
  {
   "cell_type": "code",
   "execution_count": 5,
   "metadata": {
    "collapsed": false
   },
   "outputs": [
    {
     "data": {
      "text/plain": [
       "([mean: 0.98022, std: 0.00106, params: {'gamma': 0.0},\n",
       "  mean: 0.98068, std: 0.00087, params: {'gamma': 0.1},\n",
       "  mean: 0.98059, std: 0.00074, params: {'gamma': 0.2},\n",
       "  mean: 0.98086, std: 0.00107, params: {'gamma': 0.3},\n",
       "  mean: 0.98086, std: 0.00128, params: {'gamma': 0.4}],\n",
       " {'gamma': 0.4},\n",
       " 0.9808618464398906)"
      ]
     },
     "execution_count": 5,
     "metadata": {},
     "output_type": "execute_result"
    }
   ],
   "source": [
    "param_test3 = {\n",
    " 'gamma':[i/10.0 for i in range(0,5)]\n",
    "}\n",
    "gsearch3 = GridSearchCV(estimator = XGBClassifier( learning_rate =0.1, n_estimators=140, max_depth=4,\n",
    " min_child_weight=6, gamma=0, subsample=0.8, colsample_bytree=0.8,\n",
    " objective= 'binary:logistic', nthread=4, scale_pos_weight=1,seed=27), \n",
    " param_grid = param_test3,n_jobs=4,iid=False, cv=5)\n",
    "gsearch3.fit(train[predictors],train[target])\n",
    "gsearch3.grid_scores_, gsearch3.best_params_, gsearch3.best_score_"
   ]
  },
  {
   "cell_type": "code",
   "execution_count": 6,
   "metadata": {
    "collapsed": false
   },
   "outputs": [
    {
     "data": {
      "text/plain": [
       "([mean: 0.98059, std: 0.00033, params: {'colsample_bytree': 0.6, 'subsample': 0.6},\n",
       "  mean: 0.98096, std: 0.00169, params: {'colsample_bytree': 0.6, 'subsample': 0.7},\n",
       "  mean: 0.98105, std: 0.00071, params: {'colsample_bytree': 0.6, 'subsample': 0.8},\n",
       "  mean: 0.98132, std: 0.00119, params: {'colsample_bytree': 0.6, 'subsample': 0.9},\n",
       "  mean: 0.98059, std: 0.00033, params: {'colsample_bytree': 0.7, 'subsample': 0.6},\n",
       "  mean: 0.98096, std: 0.00169, params: {'colsample_bytree': 0.7, 'subsample': 0.7},\n",
       "  mean: 0.98105, std: 0.00071, params: {'colsample_bytree': 0.7, 'subsample': 0.8},\n",
       "  mean: 0.98132, std: 0.00119, params: {'colsample_bytree': 0.7, 'subsample': 0.9},\n",
       "  mean: 0.98114, std: 0.00162, params: {'colsample_bytree': 0.8, 'subsample': 0.6},\n",
       "  mean: 0.98105, std: 0.00177, params: {'colsample_bytree': 0.8, 'subsample': 0.7},\n",
       "  mean: 0.98095, std: 0.00119, params: {'colsample_bytree': 0.8, 'subsample': 0.8},\n",
       "  mean: 0.98068, std: 0.00076, params: {'colsample_bytree': 0.8, 'subsample': 0.9},\n",
       "  mean: 0.98114, std: 0.00162, params: {'colsample_bytree': 0.9, 'subsample': 0.6},\n",
       "  mean: 0.98105, std: 0.00177, params: {'colsample_bytree': 0.9, 'subsample': 0.7},\n",
       "  mean: 0.98095, std: 0.00119, params: {'colsample_bytree': 0.9, 'subsample': 0.8},\n",
       "  mean: 0.98068, std: 0.00076, params: {'colsample_bytree': 0.9, 'subsample': 0.9}],\n",
       " {'colsample_bytree': 0.6, 'subsample': 0.9},\n",
       " 0.9813230139994534)"
      ]
     },
     "execution_count": 6,
     "metadata": {},
     "output_type": "execute_result"
    }
   ],
   "source": [
    "param_test4 = {\n",
    " 'subsample':[i/10.0 for i in range(6,10)],\n",
    " 'colsample_bytree':[i/10.0 for i in range(6,10)]\n",
    "}\n",
    "gsearch4 = GridSearchCV(estimator = XGBClassifier( learning_rate =0.1, n_estimators=177, max_depth=4,\n",
    " min_child_weight=6, gamma=0, subsample=0.8, colsample_bytree=0.8,\n",
    " objective= 'binary:logistic', nthread=4, scale_pos_weight=1,seed=27), \n",
    " param_grid = param_test4,n_jobs=4,iid=False, cv=5)\n",
    "gsearch4.fit(train[predictors],train[target])\n",
    "gsearch4.grid_scores_, gsearch4.best_params_, gsearch4.best_score_"
   ]
  },
  {
   "cell_type": "code",
   "execution_count": 7,
   "metadata": {
    "collapsed": false
   },
   "outputs": [
    {
     "data": {
      "text/plain": [
       "([mean: 0.98068, std: 0.00133, params: {'reg_alpha': 1e-05},\n",
       "  mean: 0.98086, std: 0.00103, params: {'reg_alpha': 0.01},\n",
       "  mean: 0.98077, std: 0.00079, params: {'reg_alpha': 0.1},\n",
       "  mean: 0.98105, std: 0.00140, params: {'reg_alpha': 1},\n",
       "  mean: 0.94415, std: 0.00285, params: {'reg_alpha': 100}],\n",
       " {'reg_alpha': 1},\n",
       " 0.9810455017918777)"
      ]
     },
     "execution_count": 7,
     "metadata": {},
     "output_type": "execute_result"
    }
   ],
   "source": [
    "param_test6 = {\n",
    " 'reg_alpha':[1e-5, 1e-2, 0.1, 1, 100]\n",
    "}\n",
    "gsearch6 = GridSearchCV(estimator = XGBClassifier( learning_rate =0.1, n_estimators=177, max_depth=4,\n",
    " min_child_weight=6, gamma=0.1, subsample=0.8, colsample_bytree=0.8,\n",
    " objective= 'binary:logistic', nthread=4, scale_pos_weight=1,seed=27), \n",
    " param_grid = param_test6,n_jobs=4,iid=False, cv=5)\n",
    "gsearch6.fit(train[predictors],train[target])\n",
    "gsearch6.grid_scores_, gsearch6.best_params_, gsearch6.best_score_"
   ]
  },
  {
   "cell_type": "code",
   "execution_count": null,
   "metadata": {
    "collapsed": true
   },
   "outputs": [],
   "source": []
  }
 ],
 "metadata": {
  "kernelspec": {
   "display_name": "Python 3",
   "language": "python",
   "name": "python3"
  },
  "language_info": {
   "codemirror_mode": {
    "name": "ipython",
    "version": 3
   },
   "file_extension": ".py",
   "mimetype": "text/x-python",
   "name": "python",
   "nbconvert_exporter": "python",
   "pygments_lexer": "ipython3",
   "version": "3.6.0"
  }
 },
 "nbformat": 4,
 "nbformat_minor": 2
}